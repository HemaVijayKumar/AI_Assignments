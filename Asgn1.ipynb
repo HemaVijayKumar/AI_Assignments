{
 "cells": [
  {
   "cell_type": "code",
   "execution_count": 7,
   "metadata": {},
   "outputs": [
    {
     "name": "stdout",
     "output_type": "stream",
     "text": [
      "Shangai\n",
      "Istanbul\n",
      "Karachi\n",
      "Mumbai\n"
     ]
    }
   ],
   "source": [
    "population={\"Shangai\":\"12\", \"Istanbul\":\"11\",\n",
    "           \"Karachi\":\"10.5\",\"Mumbai\":\"13.5\"}\n",
    "for key in population:\n",
    "    print(key)"
   ]
  },
  {
   "cell_type": "code",
   "execution_count": 6,
   "metadata": {},
   "outputs": [
    {
     "name": "stdout",
     "output_type": "stream",
     "text": [
      "{'dogs': [20, 10, 15, 14, 8.32], 'cats': [3, 4, 2, 8], 'rabbits': [2, 3, 3], 'fish': [0.3, 0.5]}\n",
      "[20, 10, 15, 14, 8.32]\n",
      "14\n",
      "[0.3, 0.5]\n"
     ]
    }
   ],
   "source": [
    "animals={'dogs':[20,10,15,14,8.32],'cats':[3,4,2,8],'rabbits':[2,3,3],'fish':[0.3,0.5]}\n",
    "print(animals)\n",
    "print(animals['dogs'])\n",
    "print(animals['dogs'][3])\n",
    "print(animals['fish'])\n"
   ]
  },
  {
   "cell_type": "code",
   "execution_count": 8,
   "metadata": {},
   "outputs": [
    {
     "name": "stdout",
     "output_type": "stream",
     "text": [
      "6\n"
     ]
    }
   ],
   "source": [
    "a=[1,2,2,3,3,3,4,4,4,4]\n",
    "b=set(a)\n",
    "print(len(a)-len(b))"
   ]
  },
  {
   "cell_type": "code",
   "execution_count": 9,
   "metadata": {},
   "outputs": [
    {
     "name": "stdout",
     "output_type": "stream",
     "text": [
      "True\n",
      "4\n"
     ]
    }
   ],
   "source": [
    "tuple_a=3,4\n",
    "tuple_b=(3,4)\n",
    "print(tuple_a==tuple_b)\n",
    "print(tuple_a[1])"
   ]
  },
  {
   "cell_type": "code",
   "execution_count": 13,
   "metadata": {},
   "outputs": [
    {
     "name": "stdout",
     "output_type": "stream",
     "text": [
      "Albert & Ben & Carol & Donna\n",
      "Albert * Ben * Carol * Donna\n"
     ]
    }
   ],
   "source": [
    "names=[\"Carol\",\"Albert\",\"Ben\",\"Donna\"]\n",
    "print(\" & \".join(sorted(names)))\n",
    "print(\" * \".join(sorted(names)))"
   ]
  },
  {
   "cell_type": "code",
   "execution_count": null,
   "metadata": {},
   "outputs": [],
   "source": []
  }
 ],
 "metadata": {
  "kernelspec": {
   "display_name": "Python 3",
   "language": "python",
   "name": "python3"
  },
  "language_info": {
   "codemirror_mode": {
    "name": "ipython",
    "version": 3
   },
   "file_extension": ".py",
   "mimetype": "text/x-python",
   "name": "python",
   "nbconvert_exporter": "python",
   "pygments_lexer": "ipython3",
   "version": "3.7.3"
  }
 },
 "nbformat": 4,
 "nbformat_minor": 2
}
