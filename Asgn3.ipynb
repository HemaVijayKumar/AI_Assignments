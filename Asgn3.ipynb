{
 "cells": [
  {
   "cell_type": "code",
   "execution_count": 1,
   "metadata": {},
   "outputs": [
    {
     "name": "stdout",
     "output_type": "stream",
     "text": [
      "x= [1 2 3 4]\n",
      "y= [5.5 6.5 7.5 8.5]\n"
     ]
    },
    {
     "data": {
      "text/plain": [
       "array([ 6.5,  8.5, 10.5, 12.5])"
      ]
     },
     "execution_count": 1,
     "metadata": {},
     "output_type": "execute_result"
    }
   ],
   "source": [
    "import numpy as np\n",
    "x = np.array([1,2,3,4])\n",
    "print('x=', x)\n",
    "y = np.array([5.5,6.5,7.5,8.5])\n",
    "print('y=', y)\n",
    "np.add(x,y)"
   ]
  },
  {
   "cell_type": "code",
   "execution_count": 2,
   "metadata": {},
   "outputs": [
    {
     "name": "stdout",
     "output_type": "stream",
     "text": [
      "A= [3 4]\n",
      "B= [2 4]\n",
      "C= [1 2]\n",
      "D= [1 3]\n",
      "E 2.5\n",
      "F= 1.118033988749895\n",
      "G= [[ 2.71828183  7.3890561 ]\n",
      " [20.08553692 54.59815003]]\n"
     ]
    }
   ],
   "source": [
    "import numpy as np\n",
    "X = np.array([[1,2],[3,4]])\n",
    "np.sqrt(X)\n",
    "A=X.max(axis=0)\n",
    "print('A=',A)\n",
    "B=X.max(axis=1)\n",
    "print('B=',B)\n",
    "C=X.min(axis=0)\n",
    "print('C=',C)\n",
    "D=X.min(axis=1)\n",
    "print('D=',D)\n",
    "E=np.median(X)\n",
    "print('E',E)\n",
    "F=X.std()\n",
    "print('F=',F)\n",
    "G=np.exp(X)\n",
    "print('G=',G)\n"
   ]
  },
  {
   "cell_type": "code",
   "execution_count": null,
   "metadata": {},
   "outputs": [],
   "source": []
  }
 ],
 "metadata": {
  "kernelspec": {
   "display_name": "Python 3",
   "language": "python",
   "name": "python3"
  },
  "language_info": {
   "codemirror_mode": {
    "name": "ipython",
    "version": 3
   },
   "file_extension": ".py",
   "mimetype": "text/x-python",
   "name": "python",
   "nbconvert_exporter": "python",
   "pygments_lexer": "ipython3",
   "version": "3.7.3"
  }
 },
 "nbformat": 4,
 "nbformat_minor": 2
}
