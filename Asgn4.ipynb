{
 "cells": [
  {
   "cell_type": "code",
   "execution_count": 1,
   "metadata": {},
   "outputs": [
    {
     "name": "stdout",
     "output_type": "stream",
     "text": [
      "year\n",
      "1990    153000\n",
      "1991    162000\n",
      "1992    174000\n",
      "Name: salary, dtype: int64\n",
      "Name\n",
      "alice      162000\n",
      "bob        150000\n",
      "charlie    177000\n",
      "Name: salary, dtype: int64\n",
      "year  dpt  \n",
      "1990  HR       50000\n",
      "      RD       48000\n",
      "      admin    55000\n",
      "1991  HR       52000\n",
      "      RD       50000\n",
      "      admin    60000\n",
      "1992  HR       60000\n",
      "      RD       52000\n",
      "      admin    62000\n",
      "Name: salary, dtype: int64\n"
     ]
    }
   ],
   "source": [
    "import pandas as pd\n",
    "data=[{'year':1990,'Name':'alice','dpt':'HR','age':25,'salary':50000},\n",
    "      {'year':1990,'Name':'bob','dpt':'RD','age':30,'salary':48000},\n",
    "      {'year':1990,'Name':'charlie','dpt':'admin','age':45,'salary':55000},\n",
    "      {'year':1991,'Name':'alice','dpt':'HR','age':26,'salary':52000},\n",
    "      {'year':1991,'Name':'bob','dpt':'RD','age':31,'salary':50000},\n",
    "      {'year':1991,'Name':'charlie','dpt':'admin','age':46,'salary':60000},\n",
    "      {'year':1992,'Name':'alice','dpt':'HR','age':27,'salary':60000},\n",
    "      {'year':1992,'Name':'bob','dpt':'RD','age':32,'salary':52000},\n",
    "      {'year':1992,'Name':'charlie','dpt':'admin','age':28,'salary':62000},]\n",
    "\n",
    "data=pd.DataFrame(data,index=[0,1,2,3,4,5,6,7,8])\n",
    "x=data.groupby(['year'])['salary'].sum()\n",
    "print(x)\n",
    "y=data.groupby(['Name'])['salary'].sum()\n",
    "print(y)\n",
    "z=data.groupby(['year','dpt'])['salary'].sum()\n",
    "print(z)"
   ]
  },
  {
   "cell_type": "code",
   "execution_count": null,
   "metadata": {},
   "outputs": [],
   "source": []
  }
 ],
 "metadata": {
  "kernelspec": {
   "display_name": "Python 3",
   "language": "python",
   "name": "python3"
  },
  "language_info": {
   "codemirror_mode": {
    "name": "ipython",
    "version": 3
   },
   "file_extension": ".py",
   "mimetype": "text/x-python",
   "name": "python",
   "nbconvert_exporter": "python",
   "pygments_lexer": "ipython3",
   "version": "3.7.3"
  }
 },
 "nbformat": 4,
 "nbformat_minor": 2
}
